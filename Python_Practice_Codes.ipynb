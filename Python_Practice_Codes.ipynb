{
  "nbformat": 4,
  "nbformat_minor": 0,
  "metadata": {
    "colab": {
      "provenance": [],
      "authorship_tag": "ABX9TyM3LtKL823nQoKuP8lZ85SK",
      "include_colab_link": true
    },
    "kernelspec": {
      "name": "python3",
      "display_name": "Python 3"
    },
    "language_info": {
      "name": "python"
    }
  },
  "cells": [
    {
      "cell_type": "markdown",
      "metadata": {
        "id": "view-in-github",
        "colab_type": "text"
      },
      "source": [
        "<a href=\"https://colab.research.google.com/github/Haneesh-Dabbadi/Python-Basic-Codes/blob/main/Python_Practice_Codes.ipynb\" target=\"_parent\"><img src=\"https://colab.research.google.com/assets/colab-badge.svg\" alt=\"Open In Colab\"/></a>"
      ]
    },
    {
      "cell_type": "code",
      "source": [
        "num = int(input(\"Enter the number: \"))\n",
        "flag = False\n",
        "for i in range(2, num):\n",
        "  if (num % i) == 0:\n",
        "    flag = True\n",
        "    break\n",
        "if flag:\n",
        "  print(num,\"is not a prime number\")\n",
        "else:\n",
        "  print(num,\"is a prime number\")"
      ],
      "metadata": {
        "id": "rjaWq5K64Oyd",
        "colab": {
          "base_uri": "https://localhost:8080/"
        },
        "outputId": "690ad458-451c-4829-c66a-9894d360d290"
      },
      "execution_count": null,
      "outputs": [
        {
          "output_type": "stream",
          "name": "stdout",
          "text": [
            "Enter the number: 23\n",
            "23 is a prime number\n"
          ]
        }
      ]
    },
    {
      "cell_type": "code",
      "source": [
        "num = int(input(\"Enter the number: \"))\n",
        "temp = num\n",
        "reverse = 0\n",
        "while temp > 0:\n",
        "  remainder = temp % 10\n",
        "  reverse = (reverse * 10) + remainder\n",
        "  temp = temp // 10\n",
        "if num == reverse:\n",
        "  print(\"It is Palindrome\")\n",
        "else:\n",
        "  print(\"It is not a Palindrome\")"
      ],
      "metadata": {
        "colab": {
          "base_uri": "https://localhost:8080/"
        },
        "id": "pqww_PKLyEwH",
        "outputId": "fe888a58-413f-454c-ac0f-686cf47d44a3"
      },
      "execution_count": null,
      "outputs": [
        {
          "output_type": "stream",
          "name": "stdout",
          "text": [
            "Enter the number: 345\n",
            "It is not a Palindrome\n"
          ]
        }
      ]
    },
    {
      "cell_type": "code",
      "source": [
        "num = int(input(\"Enter the number: \"))\n",
        "temp = num\n",
        "sum = 0\n",
        "while temp > 0:\n",
        "  digit = temp % 10\n",
        "  sum += digit ** 3\n",
        "  temp = temp//10\n",
        "if num == sum:\n",
        "  print(\"It is a armstrong number\")\n",
        "else:\n",
        "  print(\"It is not a armstrong number\")"
      ],
      "metadata": {
        "colab": {
          "base_uri": "https://localhost:8080/"
        },
        "id": "NG8yy1Kk3UNm",
        "outputId": "a6da67ef-ce17-4b24-d33a-46acec88c934"
      },
      "execution_count": null,
      "outputs": [
        {
          "output_type": "stream",
          "name": "stdout",
          "text": [
            "Enter the number: 2\n",
            "It is not a armstrong number\n"
          ]
        }
      ]
    },
    {
      "cell_type": "code",
      "source": [
        "def check(s1,s2):\n",
        "  if(sorted(s1)==sorted(s2)):\n",
        "    print(\"It is Anagram\")\n",
        "  else:\n",
        "    print(\"It is not an Anagram\")\n",
        "s1 = input(\"Enter the first string: \")\n",
        "s2 = input(\"Enter the second string: \")\n",
        "check(s1,s2)"
      ],
      "metadata": {
        "colab": {
          "base_uri": "https://localhost:8080/"
        },
        "id": "zSdnyQ7E40tJ",
        "outputId": "66caab3a-ac71-42b6-e0f2-e51d2b3e8469"
      },
      "execution_count": null,
      "outputs": [
        {
          "output_type": "stream",
          "name": "stdout",
          "text": [
            "Enter the first string: listen\n",
            "Enter the second string: silent\n",
            "It is Anagram\n"
          ]
        }
      ]
    },
    {
      "cell_type": "code",
      "source": [
        "base = int(input(\"Enter the base of the triangle: \"))\n",
        "height = int(input(\"Enter the height of the triangle: \"))\n",
        "area = 0.5 * base * height\n",
        "print(f\"Area of the triangle: {area}\")"
      ],
      "metadata": {
        "colab": {
          "base_uri": "https://localhost:8080/"
        },
        "id": "CTWAbPi51a-R",
        "outputId": "f5f0d498-6c06-4a11-9c53-230dc3cd34a5"
      },
      "execution_count": null,
      "outputs": [
        {
          "output_type": "stream",
          "name": "stdout",
          "text": [
            "Enter the base of the triangle: 2\n",
            "Enter the height of the triangle: 2\n",
            "Area of the triangle: 2.0\n"
          ]
        }
      ]
    },
    {
      "cell_type": "code",
      "source": [
        "a = int(input(\"Enter the first number: \"))\n",
        "b = int(input(\"Enter the second number: \"))\n",
        "temp = a\n",
        "a = b\n",
        "b = temp\n",
        "print(f\"The swapped values are: a={a} b={b}\")"
      ],
      "metadata": {
        "colab": {
          "base_uri": "https://localhost:8080/"
        },
        "id": "_cT3ddOB6tIe",
        "outputId": "f4acae76-8294-4e5c-d3ab-5c3261ee87c2"
      },
      "execution_count": null,
      "outputs": [
        {
          "output_type": "stream",
          "name": "stdout",
          "text": [
            "Enter the first number: 2\n",
            "Enter the second number: 3\n",
            "The swapped values are: a=3 b=2\n"
          ]
        }
      ]
    },
    {
      "cell_type": "code",
      "source": [
        "a = int(input(\"Enter the first number: \"))\n",
        "b = int(input(\"Enter the second number: \"))\n",
        "c = int(input(\"Enter the third number: \"))\n",
        "temp = a\n",
        "a = c\n",
        "d = temp\n",
        "print(f\"The swapped values are: a={a} b={b} c={d}\")"
      ],
      "metadata": {
        "colab": {
          "base_uri": "https://localhost:8080/"
        },
        "id": "Fuv9hNCY7YGw",
        "outputId": "9e641a5a-84e6-44ef-cc14-554deeb252b6"
      },
      "execution_count": null,
      "outputs": [
        {
          "output_type": "stream",
          "name": "stdout",
          "text": [
            "Enter the first number: 1\n",
            "Enter the second number: 2\n",
            "Enter the third number: 3\n",
            "The swapped values are: a=3 b=2 c=1\n"
          ]
        }
      ]
    },
    {
      "cell_type": "code",
      "source": [
        "import random\n",
        "print(f\"Random number: {random.randint(1,100)}\")"
      ],
      "metadata": {
        "colab": {
          "base_uri": "https://localhost:8080/"
        },
        "id": "hISzEiW28OGg",
        "outputId": "c8f8b722-48ba-40f4-8435-b0cf4e1ad0ee"
      },
      "execution_count": null,
      "outputs": [
        {
          "output_type": "stream",
          "name": "stdout",
          "text": [
            "Random number: 23\n"
          ]
        }
      ]
    },
    {
      "cell_type": "code",
      "source": [
        "kilometers = int(input(\"Enter the kilometers: \"))\n",
        "conversion_factor = 0.621371\n",
        "conversion = kilometers * conversion_factor\n",
        "print(f\"the miles: {conversion} miles\")"
      ],
      "metadata": {
        "colab": {
          "base_uri": "https://localhost:8080/"
        },
        "id": "dyrRu9eC82oO",
        "outputId": "3a7f0224-2206-4bdc-9ce9-4a096db8c1cc"
      },
      "execution_count": null,
      "outputs": [
        {
          "output_type": "stream",
          "name": "stdout",
          "text": [
            "Enter the kilometers: 2\n",
            "the miles: 1.242742 miles\n"
          ]
        }
      ]
    },
    {
      "cell_type": "code",
      "source": [
        "import calendar\n",
        "\n",
        "year = int(input(\"Enter the year: \"))\n",
        "month = int(input(\"Enter the month: \"))\n",
        "cal = calendar.month(year, month)\n",
        "print(cal)"
      ],
      "metadata": {
        "colab": {
          "base_uri": "https://localhost:8080/"
        },
        "id": "uevorCCj-rF5",
        "outputId": "8beee82e-65f9-4cef-910e-aed1852e6292"
      },
      "execution_count": null,
      "outputs": [
        {
          "output_type": "stream",
          "name": "stdout",
          "text": [
            "Enter the year: 2005\n",
            "Enter the month: 5\n",
            "      May 2005\n",
            "Mo Tu We Th Fr Sa Su\n",
            "                   1\n",
            " 2  3  4  5  6  7  8\n",
            " 9 10 11 12 13 14 15\n",
            "16 17 18 19 20 21 22\n",
            "23 24 25 26 27 28 29\n",
            "30 31\n",
            "\n"
          ]
        }
      ]
    },
    {
      "cell_type": "markdown",
      "source": [
        "//Python Program for finding roots of a Quadratic Equation"
      ],
      "metadata": {
        "id": "0i0GOMZSDpJR"
      }
    },
    {
      "cell_type": "code",
      "source": [
        "import math\n",
        "a = float(input(\"Enter coefficient a: \"))\n",
        "b = float(input(\"Enter coefficient b: \"))\n",
        "c = float(input(\"Enter coefficient c: \"))\n",
        "discriminant = b ** 2 - 4*a*c\n",
        "if discriminant > 0:\n",
        "  root1 = (-b + math.sqrt(discriminant)) / (2*a)\n",
        "  root2 = (-b - math.sqrt(discriminant)) / (2*a)\n",
        "  print(f\"First root: {root1}\")\n",
        "  print(f\"Second root: {root2}\")\n",
        "elif discriminant == 0:\n",
        "  root = -b / (2*a)\n",
        "  print(f\"Root: {root}\")\n",
        "else:\n",
        "  real_part = -b / (2*a)\n",
        "  img_part = math.sqrt(abs(discriminant)) / (2*a)\n",
        "  print(f\"First root: {real_part} + {img_part}i\")\n",
        "  print(f\"Second root: {real_part} - {img_part}i\")"
      ],
      "metadata": {
        "colab": {
          "base_uri": "https://localhost:8080/"
        },
        "id": "60vRvqUMAsdk",
        "outputId": "a360ce16-bef6-43b2-d40b-8dca84c287d1"
      },
      "execution_count": null,
      "outputs": [
        {
          "output_type": "stream",
          "name": "stdout",
          "text": [
            "Enter coefficient a: 1\n",
            "Enter coefficient b: 4\n",
            "Enter coefficient c: 8\n",
            "First root: -2.0 + 2.0i\n",
            "Second root: -2.0 - 2.0i\n"
          ]
        }
      ]
    },
    {
      "cell_type": "markdown",
      "source": [
        "//Swapping of variables without temp"
      ],
      "metadata": {
        "id": "oTMzA_90D4Tc"
      }
    },
    {
      "cell_type": "code",
      "source": [
        "a = int(input(\"Enter the first number: \"))\n",
        "b = int(input(\"Enter the second number: \"))\n",
        "a,b = b,a\n",
        "print(f\"The swapped values: a={a} b={b}\")"
      ],
      "metadata": {
        "colab": {
          "base_uri": "https://localhost:8080/"
        },
        "id": "DmgzXfJQDILW",
        "outputId": "ceb8b93d-942c-40f0-cf5f-4d5f97cfbab3"
      },
      "execution_count": null,
      "outputs": [
        {
          "output_type": "stream",
          "name": "stdout",
          "text": [
            "Enter the first number: 1\n",
            "Enter the second number: 2\n",
            "The swapped values: a=2 b=1\n"
          ]
        }
      ]
    },
    {
      "cell_type": "code",
      "source": [
        "num = int(input(\"Enter the number: \"))\n",
        "if num > 0:\n",
        "  print(\"The numnber is positive\")\n",
        "elif num == 0:\n",
        "  print(\"The number is zero\")\n",
        "else:\n",
        "  print(\"The number is negative\")"
      ],
      "metadata": {
        "id": "l2bisqCLD95m",
        "colab": {
          "base_uri": "https://localhost:8080/"
        },
        "outputId": "ac692dfe-10b9-4ba2-a781-eab56e87b1a5"
      },
      "execution_count": null,
      "outputs": [
        {
          "output_type": "stream",
          "name": "stdout",
          "text": [
            "Enter the number: 2\n",
            "The numnber is positive\n"
          ]
        }
      ]
    },
    {
      "cell_type": "code",
      "source": [
        "num = int(input(\"Enter the number: \"))\n",
        "if num % 2 == 0:\n",
        "  print(\"It is a even number\")\n",
        "else:\n",
        "  print(\"It is a odd number\")"
      ],
      "metadata": {
        "colab": {
          "base_uri": "https://localhost:8080/"
        },
        "id": "fVNHEO9x5I-B",
        "outputId": "67627206-acb5-4272-fa0d-d29179de683b"
      },
      "execution_count": null,
      "outputs": [
        {
          "output_type": "stream",
          "name": "stdout",
          "text": [
            "Enter the number: 1\n",
            "It is a odd number\n"
          ]
        }
      ]
    },
    {
      "cell_type": "code",
      "source": [
        "year = int(input(\"Enter a year: \"))\n",
        "if (year % 400 == 0) and (year % 100 == 0):\n",
        "  print(\"{0} is a leap year\".format(year))\n",
        "elif (year % 4 == 0) and (year % 100 != 0):\n",
        "  print(\"{0} is a leap year\".format(year))\n",
        "else:\n",
        "  print(\"{0} is not a leap year\".format(year))"
      ],
      "metadata": {
        "colab": {
          "base_uri": "https://localhost:8080/"
        },
        "id": "lWfq2Pl05rzf",
        "outputId": "bb2fab51-17b9-4443-a257-165d85d2ec48"
      },
      "execution_count": null,
      "outputs": [
        {
          "output_type": "stream",
          "name": "stdout",
          "text": [
            "Enter a year: 2004\n",
            "2004 is a leap year\n"
          ]
        }
      ]
    },
    {
      "cell_type": "code",
      "source": [
        "lower = 1\n",
        "upper = 10\n",
        "print(\"The prime numbers from\",lower,\"to\",upper,\"are: \")\n",
        "for num in range(lower, upper + 1):\n",
        "  if num > 1:\n",
        "    is_prime = True\n",
        "    for i in range(2, num):\n",
        "      if (num % i) == 0:\n",
        "        is_prime = False\n",
        "        break\n",
        "    if is_prime:\n",
        "        print(num)"
      ],
      "metadata": {
        "colab": {
          "base_uri": "https://localhost:8080/"
        },
        "id": "B8VEHRDG8bVT",
        "outputId": "1ac7e24e-f2a8-44ee-a626-e43b89ad45f7"
      },
      "execution_count": null,
      "outputs": [
        {
          "output_type": "stream",
          "name": "stdout",
          "text": [
            "The prime numbers from 1 to 10 are: \n",
            "2\n",
            "3\n",
            "5\n",
            "7\n"
          ]
        }
      ]
    },
    {
      "cell_type": "code",
      "source": [
        "num = int(input(\"Enter the number: \"))\n",
        "factorial = 1\n",
        "if num < 0:\n",
        "  print(\"Factorial is not applicable!\")\n",
        "elif num == 0:\n",
        "  print(\"Factorial for {0} is 1\".format(num))\n",
        "else:\n",
        "  for i in range(1, num+1):\n",
        "    factorial = factorial * i\n",
        "  print(f\"Factorial for {num} is {factorial}\")"
      ],
      "metadata": {
        "colab": {
          "base_uri": "https://localhost:8080/"
        },
        "id": "3cQ1Pt8HB3lS",
        "outputId": "df38c455-ae44-4798-a16a-1d89cdf5e65c"
      },
      "execution_count": null,
      "outputs": [
        {
          "output_type": "stream",
          "name": "stdout",
          "text": [
            "Enter the number: 4\n",
            "Factorial for 4 is 24\n"
          ]
        }
      ]
    },
    {
      "cell_type": "code",
      "source": [
        "num = int(input(\"Display multiplication table of: \"))\n",
        "for i in range(1, 11):\n",
        "  print(f\"{num} x {i} = {num*i}\")"
      ],
      "metadata": {
        "colab": {
          "base_uri": "https://localhost:8080/"
        },
        "id": "4zgIlcEQZvDV",
        "outputId": "965d6441-efd7-4eef-861c-b08440da8221"
      },
      "execution_count": null,
      "outputs": [
        {
          "output_type": "stream",
          "name": "stdout",
          "text": [
            "Display multiplication table of: 97\n",
            "97 x 1 = 97\n",
            "97 x 2 = 194\n",
            "97 x 3 = 291\n",
            "97 x 4 = 388\n",
            "97 x 5 = 485\n",
            "97 x 6 = 582\n",
            "97 x 7 = 679\n",
            "97 x 8 = 776\n",
            "97 x 9 = 873\n",
            "97 x 10 = 970\n"
          ]
        }
      ]
    },
    {
      "cell_type": "code",
      "source": [
        "nterms = int(input(\"Enter the no of terms: \"))\n",
        "n1,n2 = 0,1\n",
        "count = 0\n",
        "if nterms < 0:\n",
        "  print(\"Please enter the positive integer!\")\n",
        "elif nterms == 1:\n",
        "  print(\"Fibonacci sequence: \")\n",
        "  print(n1)\n",
        "else:\n",
        "  print(\"Fibonacci sequence is: \")\n",
        "  while count < nterms:\n",
        "    print(n1)\n",
        "    nth = n1 + n2\n",
        "    n1 = n2\n",
        "    n2 = nth\n",
        "    count =  count + 1"
      ],
      "metadata": {
        "colab": {
          "base_uri": "https://localhost:8080/"
        },
        "id": "ycYrkSm_ao5D",
        "outputId": "d8ec5a34-c583-4c56-ec5a-2b5f7f6aaed5"
      },
      "execution_count": null,
      "outputs": [
        {
          "output_type": "stream",
          "name": "stdout",
          "text": [
            "Enter the no of terms: 10\n",
            "Fibonacci sequence is: \n",
            "0\n",
            "1\n",
            "1\n",
            "2\n",
            "3\n",
            "5\n",
            "8\n",
            "13\n",
            "21\n",
            "34\n"
          ]
        }
      ]
    },
    {
      "cell_type": "code",
      "source": [
        "num = int(input(\"Enter the number: \"))\n",
        "sum = 0\n",
        "temp = num\n",
        "while temp > 0:\n",
        "  digits = temp % 10\n",
        "  sum += digits ** 3\n",
        "  temp = temp // 10\n",
        "if sum == num:\n",
        "  print(\"The given number is Armstrong number\")\n",
        "else:\n",
        "  print(\"It is not a Armstrong number!\")"
      ],
      "metadata": {
        "colab": {
          "base_uri": "https://localhost:8080/"
        },
        "id": "rhaKopM4eWU7",
        "outputId": "387ae47f-4d3f-4811-9dc8-9e33c40020da"
      },
      "execution_count": null,
      "outputs": [
        {
          "output_type": "stream",
          "name": "stdout",
          "text": [
            "Enter the number: 153\n",
            "The given number is Armstrong number\n"
          ]
        }
      ]
    },
    {
      "cell_type": "code",
      "source": [
        "lower = int(input(\"Enter the lower limit:\"))\n",
        "upper = int(input(\"Enter the upper limit: \"))\n",
        "for num in range(lower, upper + 1):\n",
        "  temp = num\n",
        "  sum = 0\n",
        "  while temp > 0:\n",
        "    digits = temp % 10\n",
        "    sum += digits ** 3\n",
        "    temp = temp // 10\n",
        "  if sum ==  num:\n",
        "    print(num)"
      ],
      "metadata": {
        "colab": {
          "base_uri": "https://localhost:8080/"
        },
        "id": "PT1GzO81ftFC",
        "outputId": "3e2d1957-c4f1-4aff-e6a7-0c8683e71db8"
      },
      "execution_count": null,
      "outputs": [
        {
          "output_type": "stream",
          "name": "stdout",
          "text": [
            "Enter the lower limit:10\n",
            "Enter the upper limit: 10000\n",
            "153\n",
            "370\n",
            "371\n",
            "407\n"
          ]
        }
      ]
    },
    {
      "cell_type": "code",
      "source": [
        "limit = int(input(\"Enter the limit: \"))\n",
        "sum = 0\n",
        "for i in range(1, limit+1):\n",
        "  sum = sum + i\n",
        "print(\"The sum of natural numbers are: {0}\".format(sum))"
      ],
      "metadata": {
        "colab": {
          "base_uri": "https://localhost:8080/"
        },
        "id": "k1HT0SO8plQS",
        "outputId": "e352f320-0164-49b4-d853-e35604f40e77"
      },
      "execution_count": null,
      "outputs": [
        {
          "output_type": "stream",
          "name": "stdout",
          "text": [
            "Enter the limit: 10\n",
            "The sum of natural numbers are: 55\n"
          ]
        }
      ]
    },
    {
      "cell_type": "code",
      "source": [
        "def find_lcm(x, y):\n",
        "  if x > y:\n",
        "    greater = x\n",
        "  else:\n",
        "    greater = y\n",
        "  while(True):\n",
        "    if (greater % x == 0) and (greater % y == 0):\n",
        "      lcm =  greater\n",
        "      break\n",
        "    greater += 1\n",
        "  return lcm\n",
        "\n",
        "num1 = int(input(\"Enter the first integer: \"))\n",
        "num2 = int(input(\"Enter the second integer: \"))\n",
        "print(\"The LCM is:\",find_lcm(num1,num2))"
      ],
      "metadata": {
        "colab": {
          "base_uri": "https://localhost:8080/"
        },
        "id": "ieCmdC9Vreo6",
        "outputId": "32a2d0d6-a6d2-47ec-c0d2-d1ab4055c562"
      },
      "execution_count": null,
      "outputs": [
        {
          "output_type": "stream",
          "name": "stdout",
          "text": [
            "Enter the first integer: 54\n",
            "Enter the second integer: 24\n",
            "The LCM is: 216\n"
          ]
        }
      ]
    },
    {
      "cell_type": "code",
      "source": [
        "def find_hcf(x, y):\n",
        "  if x < y:\n",
        "    smaller = x\n",
        "  else:\n",
        "    smaller = y\n",
        "  for i in range(1, smaller + 1):\n",
        "    if (x % i == 0) and (y % i == 0):\n",
        "      hcf = i\n",
        "  return hcf\n",
        "num1 = int(input('Enter the number: '))\n",
        "num2 = int(input('Enter the number: '))\n",
        "print(\"The HCF is: \",find_hcf(num1, num2))"
      ],
      "metadata": {
        "colab": {
          "base_uri": "https://localhost:8080/"
        },
        "id": "fjzb2IWQuKOj",
        "outputId": "fe73d245-b8aa-4d4c-f34f-450b9faf04e3"
      },
      "execution_count": null,
      "outputs": [
        {
          "output_type": "stream",
          "name": "stdout",
          "text": [
            "Enter the number: 9\n",
            "Enter the number: 7\n",
            "The HCF is:  1\n"
          ]
        }
      ]
    },
    {
      "cell_type": "code",
      "source": [
        "char = str(input(\"Enter the character: \"))\n",
        "print(\"The ASCII value for given character\",char,\"is\",ord(char))"
      ],
      "metadata": {
        "colab": {
          "base_uri": "https://localhost:8080/"
        },
        "id": "CBScw1Z7z3W4",
        "outputId": "6fa40380-3721-40b0-9012-c3056c848db4"
      },
      "execution_count": null,
      "outputs": [
        {
          "output_type": "stream",
          "name": "stdout",
          "text": [
            "Enter the character: p\n",
            "The ASCII value for given character p is 112\n"
          ]
        }
      ]
    },
    {
      "cell_type": "code",
      "source": [
        "def add(x, y):\n",
        "  return x + y\n",
        "def sub(x, y):\n",
        "  return x - y\n",
        "def mul(x, y):\n",
        "  return x * y\n",
        "def div(x, y):\n",
        "  if y!= 0:\n",
        "    return x / y\n",
        "  else:\n",
        "    print(\"Cannot Divide by zero!\")\n",
        "\n",
        "print(\"Select Operation==>\")\n",
        "print(\"1.Addition\")\n",
        "print(\"2.Subtraction\")\n",
        "print(\"Multiplication\")\n",
        "print(\"4.Division\")\n",
        "\n",
        "while(True):\n",
        "  choice = input(\"Enter your choice (1/2/3/4): \")\n",
        "  if choice in ('1','2','3','4'):\n",
        "    try:\n",
        "      num1 = int(input(\"Enter the first number: \"))\n",
        "      num2 = int(input(\"Enter the second number: \"))\n",
        "    except ValueError:\n",
        "      print(\"Invalid input. Please enter the number!\")\n",
        "    if choice == '1':\n",
        "      print(num1,\"+\",num2,\"=\",add(num1, num2))\n",
        "    elif choice == '2':\n",
        "      print(num1,\"-\",num2,\"=\",sub(num1, num2))\n",
        "    elif choice == '3':\n",
        "      print(num1,\"*\",num2,\"=\",mul(num1, num2))\n",
        "    elif choice == '4':\n",
        "      print(num1,\"/\",num2,\"=\",div(num1, num2))\n",
        "    next_calculation = input(\"Let's try another one ? (yes/no): \")\n",
        "    if next_calculation == \"no\":\n",
        "      print(\"Bye!\")\n",
        "      break\n",
        "  else:\n",
        "    print(\"Invalid input\")"
      ],
      "metadata": {
        "colab": {
          "base_uri": "https://localhost:8080/"
        },
        "id": "c1B97axj1L9s",
        "outputId": "afc7d5a1-0d5d-4076-fb28-23f12c1ee94f"
      },
      "execution_count": null,
      "outputs": [
        {
          "output_type": "stream",
          "name": "stdout",
          "text": [
            "Select Operation==>\n",
            "1.Addition\n",
            "2.Subtraction\n",
            "Multiplication\n",
            "4.Division\n",
            "Enter your choice (1/2/3/4): 1\n",
            "Enter the first number: 34\n",
            "Enter the second number: 567\n",
            "34 + 567 = 601\n",
            "Let's try another one ? (yes/no): no\n",
            "Bye!\n"
          ]
        }
      ]
    },
    {
      "cell_type": "code",
      "source": [
        "def recur_fi(n):\n",
        "  if n <= 1:\n",
        "    return n\n",
        "  else:\n",
        "    return (recur_fi(n-1) + recur_fi(n-2))\n",
        "\n",
        "nterms = int(input(\"Enter the no of terms: \"))\n",
        "if nterms <= 0:\n",
        "  print(\"Please enter positive integer!\")\n",
        "else:\n",
        "  print(\"Fibonacci Sequence:\")\n",
        "  for i in range(nterms):\n",
        "    print(recur_fi(i))"
      ],
      "metadata": {
        "id": "JCxMQ6Af0TEI",
        "colab": {
          "base_uri": "https://localhost:8080/"
        },
        "outputId": "cc55f55a-61cd-4959-dbdc-6c5ca08b8271"
      },
      "execution_count": null,
      "outputs": [
        {
          "output_type": "stream",
          "name": "stdout",
          "text": [
            "Enter the no of terms: 5\n",
            "Fibonacci Sequence:\n",
            "0\n",
            "1\n",
            "1\n",
            "2\n",
            "3\n"
          ]
        }
      ]
    },
    {
      "cell_type": "code",
      "source": [
        "def recur_facto(n):\n",
        "  if n == 1:\n",
        "    return n\n",
        "  else:\n",
        "    return n*recur_facto(n-1)\n",
        "num = int(input(\"Enter the number: \"))\n",
        "if num < 0:\n",
        "  print(\"Sorry, factotial does not exist for negative numbers!\")\n",
        "elif num == 0:\n",
        "  print(\"The factorial for 0 is 1\")\n",
        "else:\n",
        "  print(\"The factorial for\",num,\"is\",recur_facto(num))"
      ],
      "metadata": {
        "colab": {
          "base_uri": "https://localhost:8080/"
        },
        "id": "tFNU4bkMYSUN",
        "outputId": "32670098-1139-4ada-a2be-f085e266dede"
      },
      "execution_count": null,
      "outputs": [
        {
          "output_type": "stream",
          "name": "stdout",
          "text": [
            "Enter the number: 7\n",
            "The factorial for 7 is 5040\n"
          ]
        }
      ]
    },
    {
      "cell_type": "code",
      "source": [
        "def bodymassindex(height, weight):\n",
        "  return round((weight/height ** 2),2)\n",
        "h = float(input(\"Enter the height in meters: \"))\n",
        "w = float(input(\"Enter the weight in kg: \"))\n",
        "\n",
        "print(\"Hello, Welcome to BMI Calculator...\")\n",
        "bmi = bodymassindex(h, w)\n",
        "print(\"Your BMI is\",bmi)\n",
        "\n",
        "if  bmi <= 18.5:\n",
        "  print(\"Your underweight.\")\n",
        "elif 18.5 < bmi <= 24.9:\n",
        "  print(\"Your weight is normal.\")\n",
        "elif 25 < bmi <= 29.9:\n",
        "  print(\"Your overweight!\")\n",
        "else:\n",
        "  print(\"Your obese!\")"
      ],
      "metadata": {
        "colab": {
          "base_uri": "https://localhost:8080/"
        },
        "id": "A7ePCiQVdPcX",
        "outputId": "684029fd-28ee-4f84-c45d-1c602b85f791"
      },
      "execution_count": null,
      "outputs": [
        {
          "output_type": "stream",
          "name": "stdout",
          "text": [
            "Enter the height in meters: 1.58\n",
            "Enter the weight in kg: 48.3\n",
            "Hello, Welcome to BMI Calculator...\n",
            "Your BMI is 19.35\n",
            "Your weight is normal.\n"
          ]
        }
      ]
    },
    {
      "cell_type": "code",
      "source": [
        "import math\n",
        "num =  float(input(\"Enter a number: \"))\n",
        "if num <= 0:\n",
        "  print(\"Please enter a positive integer!\")\n",
        "else:\n",
        "  result = math.log(num)\n",
        "  print(f\"The natural logarithm of {num} is {result}\")"
      ],
      "metadata": {
        "colab": {
          "base_uri": "https://localhost:8080/"
        },
        "id": "H_pRa6ZqiVVU",
        "outputId": "3d948fb2-7bb2-4e45-a728-2e06b5fe01b2"
      },
      "execution_count": null,
      "outputs": [
        {
          "output_type": "stream",
          "name": "stdout",
          "text": [
            "Enter a number: 1.4\n",
            "The natural logarithm of 1.4 is 0.3364722366212129\n"
          ]
        }
      ]
    },
    {
      "cell_type": "code",
      "source": [
        "def cube_sumof_natural(n):\n",
        "  if n <= 0:\n",
        "    return 0\n",
        "  else:\n",
        "    total = sum([i ** 3 for i in range(1, n+1)])\n",
        "    return total\n",
        "num = int(input(\"Enter the number: \"))\n",
        "if num <= 0:\n",
        "  print(\"Please enter a positive integer!\")\n",
        "else:\n",
        "  print(f\"The cube sum of first {num} natural numbers is {cube_sumof_natural(num)}\")"
      ],
      "metadata": {
        "colab": {
          "base_uri": "https://localhost:8080/"
        },
        "id": "pZDlJ7Eykc_L",
        "outputId": "8b0d59f2-27f2-4e7c-be46-25fab0ad5e7e"
      },
      "execution_count": null,
      "outputs": [
        {
          "output_type": "stream",
          "name": "stdout",
          "text": [
            "Enter the number: 7\n",
            "The cube sum of first 7 natural numbers is 784\n"
          ]
        }
      ]
    },
    {
      "cell_type": "code",
      "source": [
        "#Finding sum of array using sum()\n",
        "arr = [1,2,3,4,5]\n",
        "ans = sum(arr)\n",
        "print(\"The sum of elements in array is\",ans)"
      ],
      "metadata": {
        "colab": {
          "base_uri": "https://localhost:8080/"
        },
        "id": "HVaVwxt30M2e",
        "outputId": "145a3cbc-5cd1-4068-cec6-cb283c9b9987"
      },
      "execution_count": null,
      "outputs": [
        {
          "output_type": "stream",
          "name": "stdout",
          "text": [
            "The sum of elements in array is 15\n"
          ]
        }
      ]
    },
    {
      "cell_type": "code",
      "source": [
        "#Function to find sum of array\n",
        "def sum_of_array(arr):\n",
        "  total = 0\n",
        "  for element in arr:\n",
        "    total = total + element\n",
        "  return total\n",
        "array = [1,2,3,4,5]\n",
        "result = sum_of_array(array)\n",
        "print(\"The sum of elements in an array is\",result)"
      ],
      "metadata": {
        "colab": {
          "base_uri": "https://localhost:8080/"
        },
        "id": "JeV8r-lE06vn",
        "outputId": "25cc52c6-e990-4a27-9c59-b585b9e3f6aa"
      },
      "execution_count": null,
      "outputs": [
        {
          "output_type": "stream",
          "name": "stdout",
          "text": [
            "The sum of elements in an array is 15\n"
          ]
        }
      ]
    },
    {
      "cell_type": "code",
      "source": [
        "#Finding the largest element in array\n",
        "def largest_element(arr):\n",
        "  if not arr:\n",
        "    return \"Array is empty\"\n",
        "  largest_ele = arr[0]\n",
        "  for element in arr:\n",
        "    if element > largest_ele:\n",
        "      largest_ele = element\n",
        "  return largest_ele\n",
        "array = [1,2,3,4,7]\n",
        "result = largest_element(array)\n",
        "print(\"The largest element in array is\",result)"
      ],
      "metadata": {
        "colab": {
          "base_uri": "https://localhost:8080/"
        },
        "id": "Hl7cJ12N14zv",
        "outputId": "7f0f5dc5-e91e-4c4c-9f36-eb7d5f85f0a3"
      },
      "execution_count": null,
      "outputs": [
        {
          "output_type": "stream",
          "name": "stdout",
          "text": [
            "The largest element in array is 7\n"
          ]
        }
      ]
    },
    {
      "cell_type": "code",
      "source": [
        "#Python Program for array rotation\n",
        "def rotate_array(arr, d):\n",
        "  n = len(arr)\n",
        "  if d < 0 or d >= n:\n",
        "    return \"Invalid rotation value!\"\n",
        "  rotated_array = [0] * n\n",
        "  for i in range(n):\n",
        "    rotated_array[i] = arr[(i+d) % n]\n",
        "  return rotated_array\n",
        "array = [1,2,3,4,5]\n",
        "d = 3\n",
        "result = rotate_array(array, d)\n",
        "print(\"The original array is: \",array)\n",
        "print(\"The rotated array is: \",result)"
      ],
      "metadata": {
        "colab": {
          "base_uri": "https://localhost:8080/"
        },
        "id": "3j16CxBb3IhA",
        "outputId": "ead2576e-882d-4105-ea6c-9e2fe3026dba"
      },
      "execution_count": null,
      "outputs": [
        {
          "output_type": "stream",
          "name": "stdout",
          "text": [
            "The original array is:  [1, 2, 3, 4, 5]\n",
            "The rotated array is:  [4, 5, 1, 2, 3]\n"
          ]
        }
      ]
    },
    {
      "cell_type": "code",
      "source": [
        "#Python program to split the array and add the first part to the end\n",
        "def split_and_add(arr, k):\n",
        "  if k <= 0 or k >= len(arr):\n",
        "    return arr\n",
        "  first_part = arr[:k]\n",
        "  second_part = arr[k:]\n",
        "  result = second_part + first_part\n",
        "  return result\n",
        "array = [23,45,67,89,91]\n",
        "k = 3\n",
        "print(\"The original array: \",array)\n",
        "print(\"The split and add array: \",split_and_add(array, k))"
      ],
      "metadata": {
        "colab": {
          "base_uri": "https://localhost:8080/"
        },
        "id": "qWswLelyjfbo",
        "outputId": "4da4b4d8-2ca7-4115-9dab-208d098f362b"
      },
      "execution_count": null,
      "outputs": [
        {
          "output_type": "stream",
          "name": "stdout",
          "text": [
            "The original array:  [23, 45, 67, 89, 91]\n",
            "The split and add array:  [89, 91, 23, 45, 67]\n"
          ]
        }
      ]
    },
    {
      "cell_type": "code",
      "source": [
        "#Python program to check the array is monotonic\n",
        "def monotonic(arr):\n",
        "  increasing =  decreasing = True\n",
        "  for i in range(1, len(arr)):\n",
        "    if arr[i] > arr[i - 1]:\n",
        "      decreasing = False\n",
        "    else:\n",
        "      increasing  = False\n",
        "  return increasing or decreasing\n",
        "array1 = [1,2,3,4,5]\n",
        "array2 = [5,4,3,2,1]\n",
        "array3 = [1,3,2,4]\n",
        "print(\"Array1 is monotonic: \",monotonic(array1))\n",
        "print(\"Array2 is monotonic: \",monotonic(array2))\n",
        "print(\"Array3 is monotonic: \",monotonic(array3))"
      ],
      "metadata": {
        "colab": {
          "base_uri": "https://localhost:8080/"
        },
        "id": "Z9sxV0vOmMy9",
        "outputId": "d306d0b6-e22b-426c-8c67-fa228c11eeff"
      },
      "execution_count": null,
      "outputs": [
        {
          "output_type": "stream",
          "name": "stdout",
          "text": [
            "Array1 is monotonic:  True\n",
            "Array2 is monotonic:  True\n",
            "Array3 is monotonic:  False\n"
          ]
        }
      ]
    },
    {
      "cell_type": "code",
      "source": [
        "#Python program for addition of two matrices\n",
        "def add_matrices(mat1, mat2):\n",
        "  if len(mat1) != len(mat2) or len(mat1[0]) != len(mat2[0]):\n",
        "    return \"Matrix must contain equal dimensions!\"\n",
        "  result = []\n",
        "  for i in range(len(mat1)):\n",
        "    row = []\n",
        "    for j in range(len(mat1[0])):\n",
        "      row.append(mat1[i][j] + mat2[i][j])\n",
        "    result.append(row)\n",
        "  return result\n",
        "matrix1 = [\n",
        "    [1,2,3],\n",
        "    [4,5,6],\n",
        "    [7,8,9]\n",
        "]\n",
        "matrix2 = [\n",
        "    [9,8,7],\n",
        "    [6,5,4],\n",
        "    [3,2,1]\n",
        "]\n",
        "result_matrix = add_matrices(matrix1, matrix2)\n",
        "if isinstance(result_matrix, str):\n",
        "  print(result_matrix)\n",
        "else:\n",
        "  print(\"The sum of the matrices: \")\n",
        "  for row in result_matrix:\n",
        "    print(row)"
      ],
      "metadata": {
        "colab": {
          "base_uri": "https://localhost:8080/"
        },
        "id": "i0onbIKDtXAN",
        "outputId": "a942a999-6eea-4211-c99a-1cbe9016d126"
      },
      "execution_count": 12,
      "outputs": [
        {
          "output_type": "stream",
          "name": "stdout",
          "text": [
            "The sum of the matrices: \n",
            "[10, 10, 10]\n",
            "[10, 10, 10]\n",
            "[10, 10, 10]\n"
          ]
        }
      ]
    },
    {
      "cell_type": "code",
      "source": [
        "#Python program for multiplication of two matrices\n",
        "def multiply_matrices(mat1, mat2):\n",
        "  rows1 = len(mat1)\n",
        "  cols1 = len(mat1[0])\n",
        "  rows2 = len(mat2)\n",
        "  cols2 = len(mat2[0])\n",
        "  if cols1 != rows2:\n",
        "    return \"Matrix Multiplication is not possible!\"\n",
        "  result = [[0 for _ in range(cols2)] for _ in range(rows1)]\n",
        "  for i in range(rows1):\n",
        "    for j in range(cols2):\n",
        "      for k in range(cols1):\n",
        "        result[i][j] += mat1[i][k] * mat2[k][j]\n",
        "  return result\n",
        "matrix1 = [\n",
        "    [1,2,3],\n",
        "    [4,5,6]\n",
        "]\n",
        "matrix2 = [\n",
        "    [7,8],\n",
        "    [9,10],\n",
        "    [11,12]\n",
        "]\n",
        "result_matrix = multiply_matrices(matrix1, matrix2)\n",
        "if isinstance(result_matrix, str):\n",
        "  print(result_matrix)\n",
        "else:\n",
        "  print(\"Multiplication of two matrices is: \")\n",
        "  for row in result_matrix:\n",
        "    print(row)"
      ],
      "metadata": {
        "colab": {
          "base_uri": "https://localhost:8080/"
        },
        "id": "HTR-ywP-un5S",
        "outputId": "580433cf-dea1-4b87-8e80-6358a7ee4bf6"
      },
      "execution_count": 14,
      "outputs": [
        {
          "output_type": "stream",
          "name": "stdout",
          "text": [
            "Multiplication of two matrices is: \n",
            "[58, 64]\n",
            "[139, 154]\n"
          ]
        }
      ]
    },
    {
      "cell_type": "code",
      "source": [
        "#Program for tranpose of matrix\n",
        "def transpose_matrix(mat):\n",
        "  rows = len(mat)\n",
        "  cols = len(mat[0])\n",
        "  result = [[0 for _ in range (rows)] for _ in range(cols)]\n",
        "  for i in range(rows):\n",
        "    for j in range(cols):\n",
        "      result[j][i] = mat[i][j]\n",
        "  return result\n",
        "matrix = [\n",
        "    [1,2,3],\n",
        "    [4,5,6]\n",
        "]\n",
        "transposed_matrix = transpose_matrix(matrix)\n",
        "print(\"The tranposed matrix is: \")\n",
        "for row in transposed_matrix:\n",
        "  print(row)"
      ],
      "metadata": {
        "colab": {
          "base_uri": "https://localhost:8080/"
        },
        "id": "xJ_nFDbr0i7L",
        "outputId": "7bd3949e-e573-4866-e88f-abaa788745d0"
      },
      "execution_count": 16,
      "outputs": [
        {
          "output_type": "stream",
          "name": "stdout",
          "text": [
            "The tranposed matrix is: \n",
            "[1, 4]\n",
            "[2, 5]\n",
            "[3, 6]\n"
          ]
        }
      ]
    }
  ]
}